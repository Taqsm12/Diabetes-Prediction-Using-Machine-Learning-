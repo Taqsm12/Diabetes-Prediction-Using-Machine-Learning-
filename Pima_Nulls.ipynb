{
 "cells": [
  {
   "cell_type": "markdown",
   "metadata": {},
   "source": [
    "#  Null Value Computation"
   ]
  },
  {
   "cell_type": "code",
   "execution_count": 1,
   "metadata": {},
   "outputs": [],
   "source": [
    "import pandas as pd\n",
    "import numpy as np\n",
    "import matplotlib.pyplot as plt\n",
    "import seaborn as sns\n",
    "from IPython.display import display\n",
    "%matplotlib inline"
   ]
  },
  {
   "cell_type": "code",
   "execution_count": 2,
   "metadata": {},
   "outputs": [],
   "source": [
    "# set seed for reproducibility\n",
    "SEED = 20\n",
    "np.random.seed(SEED)"
   ]
  },
  {
   "cell_type": "code",
   "execution_count": 3,
   "metadata": {},
   "outputs": [
    {
     "data": {
      "text/html": [
       "<div>\n",
       "<style scoped>\n",
       "    .dataframe tbody tr th:only-of-type {\n",
       "        vertical-align: middle;\n",
       "    }\n",
       "\n",
       "    .dataframe tbody tr th {\n",
       "        vertical-align: top;\n",
       "    }\n",
       "\n",
       "    .dataframe thead th {\n",
       "        text-align: right;\n",
       "    }\n",
       "</style>\n",
       "<table border=\"1\" class=\"dataframe\">\n",
       "  <thead>\n",
       "    <tr style=\"text-align: right;\">\n",
       "      <th></th>\n",
       "      <th>Pregnancies</th>\n",
       "      <th>Glucose</th>\n",
       "      <th>BloodPressure</th>\n",
       "      <th>SkinThickness</th>\n",
       "      <th>Insulin</th>\n",
       "      <th>BMI</th>\n",
       "      <th>DiabetesPedigreeFunction</th>\n",
       "      <th>Age</th>\n",
       "      <th>Outcome</th>\n",
       "    </tr>\n",
       "  </thead>\n",
       "  <tbody>\n",
       "    <tr>\n",
       "      <th>0</th>\n",
       "      <td>6</td>\n",
       "      <td>148</td>\n",
       "      <td>72</td>\n",
       "      <td>35</td>\n",
       "      <td>0</td>\n",
       "      <td>33.6</td>\n",
       "      <td>0.627</td>\n",
       "      <td>50</td>\n",
       "      <td>1</td>\n",
       "    </tr>\n",
       "    <tr>\n",
       "      <th>1</th>\n",
       "      <td>1</td>\n",
       "      <td>85</td>\n",
       "      <td>66</td>\n",
       "      <td>29</td>\n",
       "      <td>0</td>\n",
       "      <td>26.6</td>\n",
       "      <td>0.351</td>\n",
       "      <td>31</td>\n",
       "      <td>0</td>\n",
       "    </tr>\n",
       "    <tr>\n",
       "      <th>2</th>\n",
       "      <td>8</td>\n",
       "      <td>183</td>\n",
       "      <td>64</td>\n",
       "      <td>0</td>\n",
       "      <td>0</td>\n",
       "      <td>23.3</td>\n",
       "      <td>0.672</td>\n",
       "      <td>32</td>\n",
       "      <td>1</td>\n",
       "    </tr>\n",
       "    <tr>\n",
       "      <th>3</th>\n",
       "      <td>1</td>\n",
       "      <td>89</td>\n",
       "      <td>66</td>\n",
       "      <td>23</td>\n",
       "      <td>94</td>\n",
       "      <td>28.1</td>\n",
       "      <td>0.167</td>\n",
       "      <td>21</td>\n",
       "      <td>0</td>\n",
       "    </tr>\n",
       "    <tr>\n",
       "      <th>4</th>\n",
       "      <td>0</td>\n",
       "      <td>137</td>\n",
       "      <td>40</td>\n",
       "      <td>35</td>\n",
       "      <td>168</td>\n",
       "      <td>43.1</td>\n",
       "      <td>2.288</td>\n",
       "      <td>33</td>\n",
       "      <td>1</td>\n",
       "    </tr>\n",
       "  </tbody>\n",
       "</table>\n",
       "</div>"
      ],
      "text/plain": [
       "   Pregnancies  Glucose  BloodPressure  SkinThickness  Insulin   BMI  \\\n",
       "0            6      148             72             35        0  33.6   \n",
       "1            1       85             66             29        0  26.6   \n",
       "2            8      183             64              0        0  23.3   \n",
       "3            1       89             66             23       94  28.1   \n",
       "4            0      137             40             35      168  43.1   \n",
       "\n",
       "   DiabetesPedigreeFunction  Age  Outcome  \n",
       "0                     0.627   50        1  \n",
       "1                     0.351   31        0  \n",
       "2                     0.672   32        1  \n",
       "3                     0.167   21        0  \n",
       "4                     2.288   33        1  "
      ]
     },
     "execution_count": 3,
     "metadata": {},
     "output_type": "execute_result"
    }
   ],
   "source": [
    "# Loading Data\n",
    "df = pd.read_csv('diabetes.csv')\n",
    "df.head()"
   ]
  },
  {
   "cell_type": "code",
   "execution_count": 4,
   "metadata": {},
   "outputs": [
    {
     "name": "stdout",
     "output_type": "stream",
     "text": [
      "Total zero Glucose values: 5\n",
      "Total zero BloodPressure values: 35\n",
      "Total zero SkinThickness values: 227\n",
      "Total zero Insulin values: 374\n",
      "Total zero BMI values: 11\n",
      "Total zero DiabetesPedigreeFunction values: 0\n",
      "Total zero Age values: 0\n"
     ]
    }
   ],
   "source": [
    "print('Total zero Glucose values: ' + str(768-df['Glucose'].astype(bool).sum(axis=0)))\n",
    "print('Total zero BloodPressure values: ' + str(768-df['BloodPressure'].astype(bool).sum(axis=0)))\n",
    "print('Total zero SkinThickness values: ' + str(768-df['SkinThickness'].astype(bool).sum(axis=0)))\n",
    "print('Total zero Insulin values: ' + str(768-df['Insulin'].astype(bool).sum(axis=0)))\n",
    "print('Total zero BMI values: ' + str(768-df['BMI'].astype(bool).sum(axis=0)))\n",
    "print('Total zero DiabetesPedigreeFunction values: ' + str(768-df['DiabetesPedigreeFunction'].astype(bool).sum(axis=0)))\n",
    "print('Total zero Age values: ' + str(768-df['Age'].astype(bool).sum(axis=0)))\n",
    "# These are all 0 values out of 768 in each field.\n",
    "# We saw outliers during our data viz. Now we need to handle these\n",
    "# Total zero values in DiabetesPedigreeFunction and Age variable is zero.\n",
    "# Pregnancy field can be 0."
   ]
  },
  {
   "cell_type": "code",
   "execution_count": 5,
   "metadata": {},
   "outputs": [],
   "source": [
    "def replace_zero(df):\n",
    "    df_nan=df.copy(deep=True)\n",
    "    cols = [\"Glucose\",\"BloodPressure\",\"SkinThickness\",\"Insulin\",\"BMI\"]\n",
    "    df_nan[cols] = df_nan[cols].replace({0:np.nan})  \n",
    "replace_zero(df)"
   ]
  },
  {
   "cell_type": "code",
   "execution_count": 6,
   "metadata": {},
   "outputs": [
    {
     "data": {
      "text/plain": [
       "Pregnancies                 0\n",
       "Glucose                     0\n",
       "BloodPressure               0\n",
       "SkinThickness               0\n",
       "Insulin                     0\n",
       "BMI                         0\n",
       "DiabetesPedigreeFunction    0\n",
       "Age                         0\n",
       "Outcome                     0\n",
       "dtype: int64"
      ]
     },
     "execution_count": 6,
     "metadata": {},
     "output_type": "execute_result"
    }
   ],
   "source": [
    "df.isnull().sum()\n",
    "# We have successfully replaced 0's with Null values\n",
    "# for colums [\"Glucose\",\"BloodPressure\",\"SkinThickness\",\"Insulin\",\"BMI\"]"
   ]
  },
  {
   "cell_type": "code",
   "execution_count": 7,
   "metadata": {},
   "outputs": [],
   "source": [
    "# Now we need to handle Nulls somehow\n",
    "# to find the median for filling null values\n",
    "# Function outputs median value for mentioned variable based on Outcome var\n",
    "def replace_zero(df):\n",
    "    df_nan=df.copy(deep=True)\n",
    "    cols = [\"Glucose\",\"BloodPressure\",\"SkinThickness\",\"Insulin\",\"BMI\"]\n",
    "    df_nan[cols] = df_nan[cols].replace({0:np.nan})\n",
    "    return df_nan\n",
    "df_nan=replace_zero(df)"
   ]
  },
  {
   "cell_type": "code",
   "execution_count": 8,
   "metadata": {},
   "outputs": [
    {
     "name": "stdout",
     "output_type": "stream",
     "text": [
      "Median glucose value for non-diabetic people: 107.0\n",
      "Median glucose value for diabetic people: 140.0\n"
     ]
    }
   ],
   "source": [
    "def find_median(df, column_name):\n",
    "    median_non_diabetic = df[df['Outcome'] == 0][column_name].median()\n",
    "    median_diabetic = df[df['Outcome'] == 1][column_name].median()\n",
    "    return median_non_diabetic, median_diabetic\n",
    "\n",
    "median_non_diabetic, median_diabetic = find_median(df_nan, 'Glucose')\n",
    "print(\"Median glucose value for non-diabetic people:\", median_non_diabetic)\n",
    "print(\"Median glucose value for diabetic people:\", median_diabetic)\n"
   ]
  },
  {
   "cell_type": "code",
   "execution_count": 9,
   "metadata": {},
   "outputs": [],
   "source": [
    "# Function to replace Null values with relevant median values\n",
    "# returns number of Null values after computation (Should return 0 when called)\n",
    "def replace_null(frame,var):\n",
    "    median_df=find_median(frame,var)\n",
    "    var_0=median_df[var].iloc[0]\n",
    "    var_1=median_df[var].iloc[1]\n",
    "    frame.loc[(frame['Outcome'] == 0) & (frame[var].isnull()), var] = var_0\n",
    "    frame.loc[(frame['Outcome'] == 1) & (frame[var].isnull()), var] = var_1\n",
    "    return frame[var].isnull().sum()"
   ]
  },
  {
   "cell_type": "code",
   "execution_count": 10,
   "metadata": {},
   "outputs": [
    {
     "name": "stdout",
     "output_type": "stream",
     "text": [
      "0 Nulls for Glucose\n",
      "0 Nulls for SkinThickness\n",
      "0 Nulls for Insulin\n",
      "0 Nulls for BMI\n",
      "0 Nulls for BloodPressure\n"
     ]
    }
   ],
   "source": [
    "def replace_null(df, column_name):\n",
    "    median_value = df[column_name].median()\n",
    "    df[column_name].fillna(median_value, inplace=True)\n",
    "    return df[column_name].isnull().sum()\n",
    "\n",
    "print(f\"{replace_null(df_nan,'Glucose')} Nulls for Glucose\")\n",
    "print(f\"{replace_null(df_nan,'SkinThickness')} Nulls for SkinThickness\")\n",
    "print(f\"{replace_null(df_nan,'Insulin')} Nulls for Insulin\")\n",
    "print(f\"{replace_null(df_nan,'BMI')} Nulls for BMI\")\n",
    "print(f\"{replace_null(df_nan,'BloodPressure')} Nulls for BloodPressure\")\n"
   ]
  },
  {
   "cell_type": "code",
   "execution_count": 11,
   "metadata": {},
   "outputs": [
    {
     "data": {
      "text/plain": [
       "Pregnancies                 0\n",
       "Glucose                     0\n",
       "BloodPressure               0\n",
       "SkinThickness               0\n",
       "Insulin                     0\n",
       "BMI                         0\n",
       "DiabetesPedigreeFunction    0\n",
       "Age                         0\n",
       "Outcome                     0\n",
       "dtype: int64"
      ]
     },
     "execution_count": 11,
     "metadata": {},
     "output_type": "execute_result"
    }
   ],
   "source": [
    "df_nan.isnull().sum()\n",
    "# Just a confirmation"
   ]
  },
  {
   "cell_type": "code",
   "execution_count": 12,
   "metadata": {},
   "outputs": [
    {
     "name": "stderr",
     "output_type": "stream",
     "text": [
      "c:\\ProgramData\\anaconda3\\Lib\\site-packages\\seaborn\\matrix.py:260: FutureWarning: Format strings passed to MaskedConstant are ignored, but in future may error or produce different behavior\n",
      "  annotation = (\"{:\" + self.fmt + \"}\").format(val)\n"
     ]
    },
    {
     "data": {
      "image/png": "[encoded data removed]",
      "text/plain": [
       "<Figure size 625x500 with 2 Axes>"
      ]
     },
     "metadata": {},
     "output_type": "display_data"
    }
   ],
   "source": [
    "plt.figure(dpi = 125,figsize= (5,4))\n",
    "mask = np.triu(df.corr())\n",
    "#np.triu returns lower triangle for our heatmap as we do not need upper map\n",
    "sns.heatmap(df_nan.corr(),mask = mask, fmt = \".1f\",annot=True,lw=0.1,cmap = 'YlGnBu')\n",
    "plt.title('Correlation Map')\n",
    "plt.show()\n",
    "# New Correlation map has higher correlated values"
   ]
  },
  {
   "cell_type": "markdown",
   "metadata": {},
   "source": []
  }
 ],
 "metadata": {
  "kernelspec": {
   "display_name": "Python 3",
   "language": "python",
   "name": "python3"
  },
  "language_info": {
   "codemirror_mode": {
    "name": "ipython",
    "version": 3
   },
   "file_extension": ".py",
   "mimetype": "text/x-python",
   "name": "python",
   "nbconvert_exporter": "python",
   "pygments_lexer": "ipython3",
   "version": "3.11.7"
  }
 },
 "nbformat": 4,
 "nbformat_minor": 4
}

{
 "cells": [
  {
   "cell_type": "markdown",
   "metadata": {},
   "source": [
    "# Data Preparation and Model"
   ]
  },
  {
   "cell_type": "markdown",
   "metadata": {},
   "source": [
    "## About Dataset\n",
    "Link to the dataset: [Pima Indians Diabetes Database](https://www.kaggle.com/datasets/uciml/pima-indians-diabetes-database)\n",
    "\n",
    "### `Context`\n",
    "This dataset is originally from the National Institute of Diabetes and Digestive and Kidney Diseases. The objective of the dataset is to diagnostically predict whether or not a patient has diabetes, based on certain diagnostic measurements included in the dataset. Several constraints were placed on the selection of these instances from a larger database. In particular, all patients here are females at least 21 years old of Pima Indian heritage.\n",
    "\n",
    "### `Content`\n",
    "The datasets consists of several medical predictor variables and one target variable, Outcome. Predictor variables includes the number of pregnancies the patient has had, their BMI, insulin level, age, and so on.\n",
    "\n",
    "### `Acknowledgements`\n",
    "Smith, J.W., Everhart, J.E., Dickson, W.C., Knowler, W.C., & Johannes, R.S. (1988). Using the ADAP learning algorithm to forecast the onset of diabetes mellitus. In Proceedings of the Symposium on Computer Applications and Medical Care (pp. 261--265). IEEE Computer Society Press.\n"
   ]
  },
  {
   "cell_type": "code",
   "execution_count": 1,
   "metadata": {},
   "outputs": [],
   "source": [
    "import pandas as pd\n",
    "import numpy as np"
   ]
  },
  {
   "cell_type": "code",
   "execution_count": 2,
   "metadata": {},
   "outputs": [],
   "source": [
    "# set seed for reproducibility\n",
    "SEED = 20\n",
    "np.random.seed(SEED)"
   ]
  },
  {
   "cell_type": "code",
   "execution_count": 3,
   "metadata": {},
   "outputs": [
    {
     "data": {
      "text/html": [
       "<div>\n",
       "<style scoped>\n",
       "    .dataframe tbody tr th:only-of-type {\n",
       "        vertical-align: middle;\n",
       "    }\n",
       "\n",
       "    .dataframe tbody tr th {\n",
       "        vertical-align: top;\n",
       "    }\n",
       "\n",
       "    .dataframe thead th {\n",
       "        text-align: right;\n",
       "    }\n",
       "</style>\n",
       "<table border=\"1\" class=\"dataframe\">\n",
       "  <thead>\n",
       "    <tr style=\"text-align: right;\">\n",
       "      <th></th>\n",
       "      <th>Pregnancies</th>\n",
       "      <th>Glucose</th>\n",
       "      <th>BloodPressure</th>\n",
       "      <th>SkinThickness</th>\n",
       "      <th>Insulin</th>\n",
       "      <th>BMI</th>\n",
       "      <th>DiabetesPedigreeFunction</th>\n",
       "      <th>Age</th>\n",
       "      <th>Outcome</th>\n",
       "    </tr>\n",
       "  </thead>\n",
       "  <tbody>\n",
       "    <tr>\n",
       "      <th>0</th>\n",
       "      <td>6</td>\n",
       "      <td>148</td>\n",
       "      <td>72</td>\n",
       "      <td>35</td>\n",
       "      <td>0</td>\n",
       "      <td>33.6</td>\n",
       "      <td>0.627</td>\n",
       "      <td>50</td>\n",
       "      <td>1</td>\n",
       "    </tr>\n",
       "    <tr>\n",
       "      <th>1</th>\n",
       "      <td>1</td>\n",
       "      <td>85</td>\n",
       "      <td>66</td>\n",
       "      <td>29</td>\n",
       "      <td>0</td>\n",
       "      <td>26.6</td>\n",
       "      <td>0.351</td>\n",
       "      <td>31</td>\n",
       "      <td>0</td>\n",
       "    </tr>\n",
       "    <tr>\n",
       "      <th>2</th>\n",
       "      <td>8</td>\n",
       "      <td>183</td>\n",
       "      <td>64</td>\n",
       "      <td>0</td>\n",
       "      <td>0</td>\n",
       "      <td>23.3</td>\n",
       "      <td>0.672</td>\n",
       "      <td>32</td>\n",
       "      <td>1</td>\n",
       "    </tr>\n",
       "    <tr>\n",
       "      <th>3</th>\n",
       "      <td>1</td>\n",
       "      <td>89</td>\n",
       "      <td>66</td>\n",
       "      <td>23</td>\n",
       "      <td>94</td>\n",
       "      <td>28.1</td>\n",
       "      <td>0.167</td>\n",
       "      <td>21</td>\n",
       "      <td>0</td>\n",
       "    </tr>\n",
       "    <tr>\n",
       "      <th>4</th>\n",
       "      <td>0</td>\n",
       "      <td>137</td>\n",
       "      <td>40</td>\n",
       "      <td>35</td>\n",
       "      <td>168</td>\n",
       "      <td>43.1</td>\n",
       "      <td>2.288</td>\n",
       "      <td>33</td>\n",
       "      <td>1</td>\n",
       "    </tr>\n",
       "  </tbody>\n",
       "</table>\n",
       "</div>"
      ],
      "text/plain": [
       "   Pregnancies  Glucose  BloodPressure  SkinThickness  Insulin   BMI  \\\n",
       "0            6      148             72             35        0  33.6   \n",
       "1            1       85             66             29        0  26.6   \n",
       "2            8      183             64              0        0  23.3   \n",
       "3            1       89             66             23       94  28.1   \n",
       "4            0      137             40             35      168  43.1   \n",
       "\n",
       "   DiabetesPedigreeFunction  Age  Outcome  \n",
       "0                     0.627   50        1  \n",
       "1                     0.351   31        0  \n",
       "2                     0.672   32        1  \n",
       "3                     0.167   21        0  \n",
       "4                     2.288   33        1  "
      ]
     },
     "execution_count": 3,
     "metadata": {},
     "output_type": "execute_result"
    }
   ],
   "source": [
    "# Loading Data\n",
    "df = pd.read_csv('diabetes.csv')\n",
    "df.head()"
   ]
  },
  {
   "cell_type": "code",
   "execution_count": 4,
   "metadata": {},
   "outputs": [],
   "source": [
    "# Replacing all 0 values with Null values\n",
    "def replace_zero(df):\n",
    "    df_nan=df.copy(deep=True)\n",
    "    cols = [\"Glucose\",\"BloodPressure\",\"SkinThickness\",\"Insulin\",\"BMI\"]\n",
    "    df_nan[cols] = df_nan[cols].replace({0:np.nan})\n",
    "    return df_nan\n",
    "df_nan=replace_zero(df)"
   ]
  },
  {
   "cell_type": "code",
   "execution_count": 5,
   "metadata": {},
   "outputs": [],
   "source": [
    "# Copy pasting functions from previous notebook\n",
    "def find_median(frame,var):\n",
    "    temp = frame[frame[var].notnull()]\n",
    "    temp = frame[[var,'Outcome']].groupby('Outcome')[[var]].median().reset_index()\n",
    "    return temp"
   ]
  },
  {
   "cell_type": "code",
   "execution_count": 6,
   "metadata": {},
   "outputs": [],
   "source": [
    "# Copy pasting functions from previous notebook\n",
    "def replace_null(frame,var):\n",
    "    median_df=find_median(frame,var)\n",
    "    var_0=median_df[var].iloc[0]\n",
    "    var_1=median_df[var].iloc[1]\n",
    "    frame.loc[(frame['Outcome'] == 0) & (frame[var].isnull()), var] = var_0\n",
    "    frame.loc[(frame['Outcome'] == 1) & (frame[var].isnull()), var] = var_1\n",
    "    return frame[var].isnull().sum()"
   ]
  },
  {
   "cell_type": "code",
   "execution_count": 7,
   "metadata": {},
   "outputs": [
    {
     "name": "stdout",
     "output_type": "stream",
     "text": [
      "0 Nulls for Glucose\n",
      "0 Nulls for SkinThickness\n",
      "0 Nulls for Insulin\n",
      "0 Nulls for BMI\n",
      "0 Nulls for BloodPressure\n"
     ]
    }
   ],
   "source": [
    "print(str(replace_null(df_nan,'Glucose'))+ ' Nulls for Glucose')\n",
    "print(str(replace_null(df_nan,'SkinThickness'))+ ' Nulls for SkinThickness')\n",
    "print(str(replace_null(df_nan,'Insulin'))+ ' Nulls for Insulin')\n",
    "print(str(replace_null(df_nan,'BMI'))+ ' Nulls for BMI')\n",
    "print(str(replace_null(df_nan,'BloodPressure'))+ ' Nulls for BloodPressure')\n",
    "# We have successfully handled Nulls"
   ]
  },
  {
   "cell_type": "code",
   "execution_count": 8,
   "metadata": {},
   "outputs": [
    {
     "data": {
      "text/plain": [
       "Pregnancies                 0\n",
       "Glucose                     0\n",
       "BloodPressure               0\n",
       "SkinThickness               0\n",
       "Insulin                     0\n",
       "BMI                         0\n",
       "DiabetesPedigreeFunction    0\n",
       "Age                         0\n",
       "Outcome                     0\n",
       "dtype: int64"
      ]
     },
     "execution_count": 8,
     "metadata": {},
     "output_type": "execute_result"
    }
   ],
   "source": [
    "df_nan.isnull().sum()\n",
    "# Just a confirmation\n",
    "# Everything looks good"
   ]
  },
  {
   "cell_type": "code",
   "execution_count": 9,
   "metadata": {},
   "outputs": [],
   "source": [
    "# We need to scale our data for uniformity.\n",
    "from sklearn.preprocessing import StandardScaler\n",
    "def std_scalar(df):\n",
    "    std_X = StandardScaler()\n",
    "    x =  pd.DataFrame(std_X.fit_transform(df.drop([\"Outcome\"],axis = 1),),\n",
    "            columns=['Pregnancies', 'Glucose', 'BloodPressure', 'SkinThickness', 'Insulin',\n",
    "           'BMI', 'DiabetesPedigreeFunction', 'Age'])\n",
    "    y=df[\"Outcome\"]\n",
    "    return x,y\n"
   ]
  },
  {
   "cell_type": "code",
   "execution_count": 10,
   "metadata": {},
   "outputs": [
    {
     "data": {
      "text/html": [
       "<div>\n",
       "<style scoped>\n",
       "    .dataframe tbody tr th:only-of-type {\n",
       "        vertical-align: middle;\n",
       "    }\n",
       "\n",
       "    .dataframe tbody tr th {\n",
       "        vertical-align: top;\n",
       "    }\n",
       "\n",
       "    .dataframe thead th {\n",
       "        text-align: right;\n",
       "    }\n",
       "</style>\n",
       "<table border=\"1\" class=\"dataframe\">\n",
       "  <thead>\n",
       "    <tr style=\"text-align: right;\">\n",
       "      <th></th>\n",
       "      <th>Pregnancies</th>\n",
       "      <th>Glucose</th>\n",
       "      <th>BloodPressure</th>\n",
       "      <th>SkinThickness</th>\n",
       "      <th>Insulin</th>\n",
       "      <th>BMI</th>\n",
       "      <th>DiabetesPedigreeFunction</th>\n",
       "      <th>Age</th>\n",
       "    </tr>\n",
       "  </thead>\n",
       "  <tbody>\n",
       "    <tr>\n",
       "      <th>count</th>\n",
       "      <td>7.680000e+02</td>\n",
       "      <td>7.680000e+02</td>\n",
       "      <td>7.680000e+02</td>\n",
       "      <td>7.680000e+02</td>\n",
       "      <td>7.680000e+02</td>\n",
       "      <td>7.680000e+02</td>\n",
       "      <td>7.680000e+02</td>\n",
       "      <td>7.680000e+02</td>\n",
       "    </tr>\n",
       "    <tr>\n",
       "      <th>mean</th>\n",
       "      <td>-6.476301e-17</td>\n",
       "      <td>1.480297e-16</td>\n",
       "      <td>-3.978299e-16</td>\n",
       "      <td>8.095376e-18</td>\n",
       "      <td>-3.469447e-18</td>\n",
       "      <td>1.318390e-16</td>\n",
       "      <td>2.451743e-16</td>\n",
       "      <td>1.931325e-16</td>\n",
       "    </tr>\n",
       "    <tr>\n",
       "      <th>std</th>\n",
       "      <td>1.000652e+00</td>\n",
       "      <td>1.000652e+00</td>\n",
       "      <td>1.000652e+00</td>\n",
       "      <td>1.000652e+00</td>\n",
       "      <td>1.000652e+00</td>\n",
       "      <td>1.000652e+00</td>\n",
       "      <td>1.000652e+00</td>\n",
       "      <td>1.000652e+00</td>\n",
       "    </tr>\n",
       "    <tr>\n",
       "      <th>min</th>\n",
       "      <td>-1.141852e+00</td>\n",
       "      <td>-2.551447e+00</td>\n",
       "      <td>-3.999727e+00</td>\n",
       "      <td>-2.486187e+00</td>\n",
       "      <td>-1.434747e+00</td>\n",
       "      <td>-2.070186e+00</td>\n",
       "      <td>-1.189553e+00</td>\n",
       "      <td>-1.041549e+00</td>\n",
       "    </tr>\n",
       "    <tr>\n",
       "      <th>25%</th>\n",
       "      <td>-8.448851e-01</td>\n",
       "      <td>-7.202356e-01</td>\n",
       "      <td>-6.934382e-01</td>\n",
       "      <td>-4.603073e-01</td>\n",
       "      <td>-4.408430e-01</td>\n",
       "      <td>-7.176590e-01</td>\n",
       "      <td>-6.889685e-01</td>\n",
       "      <td>-7.862862e-01</td>\n",
       "    </tr>\n",
       "    <tr>\n",
       "      <th>50%</th>\n",
       "      <td>-2.509521e-01</td>\n",
       "      <td>-1.536274e-01</td>\n",
       "      <td>-3.218035e-02</td>\n",
       "      <td>-1.226607e-01</td>\n",
       "      <td>-4.408430e-01</td>\n",
       "      <td>-5.593870e-02</td>\n",
       "      <td>-3.001282e-01</td>\n",
       "      <td>-3.608474e-01</td>\n",
       "    </tr>\n",
       "    <tr>\n",
       "      <th>75%</th>\n",
       "      <td>6.399473e-01</td>\n",
       "      <td>6.100618e-01</td>\n",
       "      <td>6.290775e-01</td>\n",
       "      <td>3.275348e-01</td>\n",
       "      <td>3.116039e-01</td>\n",
       "      <td>6.057816e-01</td>\n",
       "      <td>4.662269e-01</td>\n",
       "      <td>6.602056e-01</td>\n",
       "    </tr>\n",
       "    <tr>\n",
       "      <th>max</th>\n",
       "      <td>3.906578e+00</td>\n",
       "      <td>2.539814e+00</td>\n",
       "      <td>4.100681e+00</td>\n",
       "      <td>7.868309e+00</td>\n",
       "      <td>7.909072e+00</td>\n",
       "      <td>5.041489e+00</td>\n",
       "      <td>5.883565e+00</td>\n",
       "      <td>4.063716e+00</td>\n",
       "    </tr>\n",
       "  </tbody>\n",
       "</table>\n",
       "</div>"
      ],
      "text/plain": [
       "        Pregnancies       Glucose  BloodPressure  SkinThickness       Insulin  \\\n",
       "count  7.680000e+02  7.680000e+02   7.680000e+02   7.680000e+02  7.680000e+02   \n",
       "mean  -6.476301e-17  1.480297e-16  -3.978299e-16   8.095376e-18 -3.469447e-18   \n",
       "std    1.000652e+00  1.000652e+00   1.000652e+00   1.000652e+00  1.000652e+00   \n",
       "min   -1.141852e+00 -2.551447e+00  -3.999727e+00  -2.486187e+00 -1.434747e+00   \n",
       "25%   -8.448851e-01 -7.202356e-01  -6.934382e-01  -4.603073e-01 -4.408430e-01   \n",
       "50%   -2.509521e-01 -1.536274e-01  -3.218035e-02  -1.226607e-01 -4.408430e-01   \n",
       "75%    6.399473e-01  6.100618e-01   6.290775e-01   3.275348e-01  3.116039e-01   \n",
       "max    3.906578e+00  2.539814e+00   4.100681e+00   7.868309e+00  7.909072e+00   \n",
       "\n",
       "                BMI  DiabetesPedigreeFunction           Age  \n",
       "count  7.680000e+02              7.680000e+02  7.680000e+02  \n",
       "mean   1.318390e-16              2.451743e-16  1.931325e-16  \n",
       "std    1.000652e+00              1.000652e+00  1.000652e+00  \n",
       "min   -2.070186e+00             -1.189553e+00 -1.041549e+00  \n",
       "25%   -7.176590e-01             -6.889685e-01 -7.862862e-01  \n",
       "50%   -5.593870e-02             -3.001282e-01 -3.608474e-01  \n",
       "75%    6.057816e-01              4.662269e-01  6.602056e-01  \n",
       "max    5.041489e+00              5.883565e+00  4.063716e+00  "
      ]
     },
     "execution_count": 10,
     "metadata": {},
     "output_type": "execute_result"
    }
   ],
   "source": [
    "X,Y=std_scalar(df_nan)\n",
    "X.describe()\n",
    "# Scaled data looks fine"
   ]
  },
  {
   "cell_type": "code",
   "execution_count": 11,
   "metadata": {},
   "outputs": [
    {
     "data": {
      "text/plain": [
       "0    1\n",
       "1    0\n",
       "2    1\n",
       "3    0\n",
       "4    1\n",
       "Name: Outcome, dtype: int64"
      ]
     },
     "execution_count": 11,
     "metadata": {},
     "output_type": "execute_result"
    }
   ],
   "source": [
    "Y.head()"
   ]
  },
  {
   "cell_type": "code",
   "execution_count": 12,
   "metadata": {},
   "outputs": [],
   "source": [
    "#Keeping train  size as 0.8\n",
    "from sklearn.model_selection import train_test_split\n",
    "X_train,X_test,Y_train,Y_test = train_test_split(X,Y,test_size=0.2,random_state=20, stratify=Y)\n"
   ]
  },
  {
   "cell_type": "code",
   "execution_count": 13,
   "metadata": {},
   "outputs": [],
   "source": [
    "# We are good to go with baseline model\n",
    "# Let's first implement KNN\n",
    "from sklearn.neighbors import KNeighborsClassifier\n",
    "test_scores = []\n",
    "train_scores = []\n",
    "for i in range(5,15):\n",
    "    neigh = KNeighborsClassifier(n_neighbors=i)\n",
    "    neigh.fit(X_train, Y_train)\n",
    "    train_scores.append(neigh.score(X_train,Y_train))\n",
    "    test_scores.append(neigh.score(X_test,Y_test))"
   ]
  },
  {
   "cell_type": "code",
   "execution_count": 14,
   "metadata": {},
   "outputs": [
    {
     "name": "stdout",
     "output_type": "stream",
     "text": [
      "Max train_scores is 85.66775244299674 for k = 5\n"
     ]
    }
   ],
   "source": [
    "print('Max train_scores is ' + str(max(train_scores)*100) + ' for k = '+ \n",
    "      str(train_scores.index(max(train_scores))+5))"
   ]
  },
  {
   "cell_type": "code",
   "execution_count": 15,
   "metadata": {},
   "outputs": [
    {
     "name": "stdout",
     "output_type": "stream",
     "text": [
      "Max test_scores is 87.01298701298701 for k = 13\n"
     ]
    }
   ],
   "source": [
    "print('Max test_scores is ' + str(max(test_scores)*100) + ' for k = '+ \n",
    "      str(test_scores.index(max(test_scores))+5))\n",
    "# K=13 has generalized well for our data."
   ]
  },
  {
   "cell_type": "code",
   "execution_count": 16,
   "metadata": {},
   "outputs": [
    {
     "data": {
      "text/plain": [
       "0.8311688311688312"
      ]
     },
     "execution_count": 16,
     "metadata": {},
     "output_type": "execute_result"
    }
   ],
   "source": [
    "# Lets try Logistic regression now\n",
    "from sklearn.linear_model import LogisticRegression\n",
    "log_model = LogisticRegression(random_state=20, penalty='l2').fit(X_train, Y_train)\n",
    "log_pred=log_model.predict(X_test)\n",
    "log_model.score(X_test, Y_test)"
   ]
  },
  {
   "cell_type": "code",
   "execution_count": 17,
   "metadata": {},
   "outputs": [
    {
     "data": {
      "text/plain": [
       "0.8896103896103896"
      ]
     },
     "execution_count": 17,
     "metadata": {},
     "output_type": "execute_result"
    }
   ],
   "source": [
    "# Support Vector Machines\n",
    "from sklearn import svm\n",
    "svm_model = svm.SVC().fit(X_train, Y_train)\n",
    "svm_pred=svm_model.predict(X_test)\n",
    "svm_model.score(X_test, Y_test)\n",
    "# Almost 89% Accuracy"
   ]
  },
  {
   "cell_type": "code",
   "execution_count": 18,
   "metadata": {},
   "outputs": [],
   "source": [
    "# Function to evaluate model performance\n",
    "def model_perf(pred,Y_test):\n",
    "    cmp_list=[]\n",
    "    for i,j in zip(pred,Y_test):\n",
    "        if i==j:\n",
    "            cmp_list.append(1)\n",
    "        else:\n",
    "            cmp_list.append(0)\n",
    "    return cmp_list\n"
   ]
  },
  {
   "cell_type": "code",
   "execution_count": 19,
   "metadata": {},
   "outputs": [],
   "source": [
    "cmp_list=model_perf(svm_pred,Y_test)"
   ]
  },
  {
   "cell_type": "code",
   "execution_count": 20,
   "metadata": {},
   "outputs": [
    {
     "name": "stdout",
     "output_type": "stream",
     "text": [
      "Model Accuracy Confirmation :0.8896103896103896\n"
     ]
    }
   ],
   "source": [
    "print('Model Accuracy Confirmation :'+ str(cmp_list.count(1)/len(Y_test)))"
   ]
  },
  {
   "cell_type": "code",
   "execution_count": 21,
   "metadata": {},
   "outputs": [
    {
     "data": {
      "text/plain": [
       "0.8571428571428571"
      ]
     },
     "execution_count": 21,
     "metadata": {},
     "output_type": "execute_result"
    }
   ],
   "source": [
    "# Random Forest\n",
    "from sklearn.ensemble import RandomForestClassifier\n",
    "rf_model = RandomForestClassifier(max_depth=2, random_state=20).fit(X_train, Y_train)\n",
    "rf_pred=rf_model.predict(X_test)\n",
    "rf_model.score(X_test, Y_test)\n",
    "# Almost 86% Accuracy\n"
   ]
  },
  {
   "cell_type": "code",
   "execution_count": 22,
   "metadata": {},
   "outputs": [
    {
     "name": "stdout",
     "output_type": "stream",
     "text": [
      "Decision Tree Accuracy: 0.8636363636363636\n"
     ]
    }
   ],
   "source": [
    "from sklearn.tree import DecisionTreeClassifier\n",
    "\n",
    "# Create decision tree model\n",
    "dt_model = DecisionTreeClassifier(max_depth=2, random_state=20)\n",
    "\n",
    "# Train the model\n",
    "dt_model.fit(X_train, Y_train)\n",
    "\n",
    "# Make predictions\n",
    "dt_pred = dt_model.predict(X_test)\n",
    "\n",
    "# Calculate accuracy\n",
    "dt_accuracy = dt_model.score(X_test, Y_test)\n",
    "print(\"Decision Tree Accuracy:\", dt_accuracy)\n"
   ]
  },
  {
   "cell_type": "code",
   "execution_count": 23,
   "metadata": {},
   "outputs": [
    {
     "name": "stdout",
     "output_type": "stream",
     "text": [
      "Accuracy: 0.7987012987012987\n"
     ]
    }
   ],
   "source": [
    "from sklearn.naive_bayes import GaussianNB\n",
    "\n",
    "# Create and train the Naive Bayes model\n",
    "nb_model = GaussianNB().fit(X_train, Y_train)\n",
    "\n",
    "# Make predictions\n",
    "nb_pred = nb_model.predict(X_test)\n",
    "\n",
    "# Calculate accuracy\n",
    "accuracy = nb_model.score(X_test, Y_test)\n",
    "print(\"Accuracy:\", accuracy)\n"
   ]
  },
  {
   "cell_type": "code",
   "execution_count": 24,
   "metadata": {},
   "outputs": [
    {
     "name": "stdout",
     "output_type": "stream",
     "text": [
      "Accuracy: 0.8831168831168831\n"
     ]
    }
   ],
   "source": [
    "from sklearn.ensemble import GradientBoostingClassifier\n",
    "\n",
    "# Creating and fitting Gradient Boosting model\n",
    "gb_model = GradientBoostingClassifier(max_depth=2, random_state=20)\n",
    "gb_model.fit(X_train, Y_train)\n",
    "\n",
    "# Predictions\n",
    "gb_pred = gb_model.predict(X_test)\n",
    "\n",
    "# Accuracy score\n",
    "accuracy = gb_model.score(X_test, Y_test)\n",
    "print(\"Accuracy:\", accuracy)\n"
   ]
  },
  {
   "cell_type": "code",
   "execution_count": 25,
   "metadata": {},
   "outputs": [
    {
     "name": "stdout",
     "output_type": "stream",
     "text": [
      "Accuracy of AdaBoost model: 0.8636363636363636\n"
     ]
    }
   ],
   "source": [
    "from sklearn.ensemble import AdaBoostClassifier\n",
    "\n",
    "# Create AdaBoost model\n",
    "adaboost_model = AdaBoostClassifier(n_estimators=50, random_state=20)\n",
    "\n",
    "# Train AdaBoost model\n",
    "adaboost_model.fit(X_train, Y_train)\n",
    "\n",
    "# Predict using AdaBoost model\n",
    "adaboost_pred = adaboost_model.predict(X_test)\n",
    "\n",
    "# Evaluate AdaBoost model\n",
    "adaboost_accuracy = adaboost_model.score(X_test, Y_test)\n",
    "print(\"Accuracy of AdaBoost model:\", adaboost_accuracy)\n"
   ]
  },
  {
   "cell_type": "code",
   "execution_count": 26,
   "metadata": {},
   "outputs": [
    {
     "name": "stdout",
     "output_type": "stream",
     "text": [
      "Defaulting to user installation because normal site-packages is not writeable\n",
      "Requirement already satisfied: tensorflow in c:\\users\\khant\\appdata\\roaming\\python\\python311\\site-packages (2.16.1)\n",
      "Requirement already satisfied: tensorflow-intel==2.16.1 in c:\\users\\khant\\appdata\\roaming\\python\\python311\\site-packages (from tensorflow) (2.16.1)\n",
      "Requirement already satisfied: absl-py>=1.0.0 in c:\\users\\khant\\appdata\\roaming\\python\\python311\\site-packages (from tensorflow-intel==2.16.1->tensorflow) (2.1.0)\n",
      "Requirement already satisfied: astunparse>=1.6.0 in c:\\users\\khant\\appdata\\roaming\\python\\python311\\site-packages (from tensorflow-intel==2.16.1->tensorflow) (1.6.3)\n",
      "Requirement already satisfied: flatbuffers>=23.5.26 in c:\\users\\khant\\appdata\\roaming\\python\\python311\\site-packages (from tensorflow-intel==2.16.1->tensorflow) (24.3.25)\n",
      "Requirement already satisfied: gast!=0.5.0,!=0.5.1,!=0.5.2,>=0.2.1 in c:\\users\\khant\\appdata\\roaming\\python\\python311\\site-packages (from tensorflow-intel==2.16.1->tensorflow) (0.5.4)\n",
      "Requirement already satisfied: google-pasta>=0.1.1 in c:\\users\\khant\\appdata\\roaming\\python\\python311\\site-packages (from tensorflow-intel==2.16.1->tensorflow) (0.2.0)\n",
      "Requirement already satisfied: h5py>=3.10.0 in c:\\users\\khant\\appdata\\roaming\\python\\python311\\site-packages (from tensorflow-intel==2.16.1->tensorflow) (3.11.0)\n",
      "Requirement already satisfied: libclang>=13.0.0 in c:\\users\\khant\\appdata\\roaming\\python\\python311\\site-packages (from tensorflow-intel==2.16.1->tensorflow) (18.1.1)\n",
      "Requirement already satisfied: ml-dtypes~=0.3.1 in c:\\users\\khant\\appdata\\roaming\\python\\python311\\site-packages (from tensorflow-intel==2.16.1->tensorflow) (0.3.2)\n",
      "Requirement already satisfied: opt-einsum>=2.3.2 in c:\\users\\khant\\appdata\\roaming\\python\\python311\\site-packages (from tensorflow-intel==2.16.1->tensorflow) (3.3.0)\n",
      "Requirement already satisfied: packaging in c:\\programdata\\anaconda3\\lib\\site-packages (from tensorflow-intel==2.16.1->tensorflow) (23.1)\n",
      "Requirement already satisfied: protobuf!=4.21.0,!=4.21.1,!=4.21.2,!=4.21.3,!=4.21.4,!=4.21.5,<5.0.0dev,>=3.20.3 in c:\\programdata\\anaconda3\\lib\\site-packages (from tensorflow-intel==2.16.1->tensorflow) (3.20.3)\n",
      "Requirement already satisfied: requests<3,>=2.21.0 in c:\\programdata\\anaconda3\\lib\\site-packages (from tensorflow-intel==2.16.1->tensorflow) (2.31.0)\n",
      "Requirement already satisfied: setuptools in c:\\programdata\\anaconda3\\lib\\site-packages (from tensorflow-intel==2.16.1->tensorflow) (68.2.2)\n",
      "Requirement already satisfied: six>=1.12.0 in c:\\programdata\\anaconda3\\lib\\site-packages (from tensorflow-intel==2.16.1->tensorflow) (1.16.0)\n",
      "Requirement already satisfied: termcolor>=1.1.0 in c:\\users\\khant\\appdata\\roaming\\python\\python311\\site-packages (from tensorflow-intel==2.16.1->tensorflow) (2.4.0)\n",
      "Requirement already satisfied: typing-extensions>=3.6.6 in c:\\programdata\\anaconda3\\lib\\site-packages (from tensorflow-intel==2.16.1->tensorflow) (4.9.0)\n",
      "Requirement already satisfied: wrapt>=1.11.0 in c:\\programdata\\anaconda3\\lib\\site-packages (from tensorflow-intel==2.16.1->tensorflow) (1.14.1)\n",
      "Requirement already satisfied: grpcio<2.0,>=1.24.3 in c:\\users\\khant\\appdata\\roaming\\python\\python311\\site-packages (from tensorflow-intel==2.16.1->tensorflow) (1.62.2)\n",
      "Requirement already satisfied: tensorboard<2.17,>=2.16 in c:\\users\\khant\\appdata\\roaming\\python\\python311\\site-packages (from tensorflow-intel==2.16.1->tensorflow) (2.16.2)\n",
      "Requirement already satisfied: keras>=3.0.0 in c:\\users\\khant\\appdata\\roaming\\python\\python311\\site-packages (from tensorflow-intel==2.16.1->tensorflow) (3.3.2)\n",
      "Requirement already satisfied: tensorflow-io-gcs-filesystem>=0.23.1 in c:\\users\\khant\\appdata\\roaming\\python\\python311\\site-packages (from tensorflow-intel==2.16.1->tensorflow) (0.31.0)\n",
      "Requirement already satisfied: numpy<2.0.0,>=1.23.5 in c:\\programdata\\anaconda3\\lib\\site-packages (from tensorflow-intel==2.16.1->tensorflow) (1.26.4)\n",
      "Requirement already satisfied: wheel<1.0,>=0.23.0 in c:\\programdata\\anaconda3\\lib\\site-packages (from astunparse>=1.6.0->tensorflow-intel==2.16.1->tensorflow) (0.41.2)\n",
      "Requirement already satisfied: rich in c:\\programdata\\anaconda3\\lib\\site-packages (from keras>=3.0.0->tensorflow-intel==2.16.1->tensorflow) (13.3.5)\n",
      "Requirement already satisfied: namex in c:\\users\\khant\\appdata\\roaming\\python\\python311\\site-packages (from keras>=3.0.0->tensorflow-intel==2.16.1->tensorflow) (0.0.8)\n",
      "Requirement already satisfied: optree in c:\\users\\khant\\appdata\\roaming\\python\\python311\\site-packages (from keras>=3.0.0->tensorflow-intel==2.16.1->tensorflow) (0.11.0)\n",
      "Requirement already satisfied: charset-normalizer<4,>=2 in c:\\programdata\\anaconda3\\lib\\site-packages (from requests<3,>=2.21.0->tensorflow-intel==2.16.1->tensorflow) (2.0.4)\n",
      "Requirement already satisfied: idna<4,>=2.5 in c:\\programdata\\anaconda3\\lib\\site-packages (from requests<3,>=2.21.0->tensorflow-intel==2.16.1->tensorflow) (3.4)\n",
      "Requirement already satisfied: urllib3<3,>=1.21.1 in c:\\programdata\\anaconda3\\lib\\site-packages (from requests<3,>=2.21.0->tensorflow-intel==2.16.1->tensorflow) (2.0.7)\n",
      "Requirement already satisfied: certifi>=2017.4.17 in c:\\programdata\\anaconda3\\lib\\site-packages (from requests<3,>=2.21.0->tensorflow-intel==2.16.1->tensorflow) (2024.2.2)\n",
      "Requirement already satisfied: markdown>=2.6.8 in c:\\programdata\\anaconda3\\lib\\site-packages (from tensorboard<2.17,>=2.16->tensorflow-intel==2.16.1->tensorflow) (3.4.1)\n",
      "Requirement already satisfied: tensorboard-data-server<0.8.0,>=0.7.0 in c:\\users\\khant\\appdata\\roaming\\python\\python311\\site-packages (from tensorboard<2.17,>=2.16->tensorflow-intel==2.16.1->tensorflow) (0.7.2)\n",
      "Requirement already satisfied: werkzeug>=1.0.1 in c:\\programdata\\anaconda3\\lib\\site-packages (from tensorboard<2.17,>=2.16->tensorflow-intel==2.16.1->tensorflow) (2.2.3)\n",
      "Requirement already satisfied: MarkupSafe>=2.1.1 in c:\\programdata\\anaconda3\\lib\\site-packages (from werkzeug>=1.0.1->tensorboard<2.17,>=2.16->tensorflow-intel==2.16.1->tensorflow) (2.1.3)\n",
      "Requirement already satisfied: markdown-it-py<3.0.0,>=2.2.0 in c:\\programdata\\anaconda3\\lib\\site-packages (from rich->keras>=3.0.0->tensorflow-intel==2.16.1->tensorflow) (2.2.0)\n",
      "Requirement already satisfied: pygments<3.0.0,>=2.13.0 in c:\\programdata\\anaconda3\\lib\\site-packages (from rich->keras>=3.0.0->tensorflow-intel==2.16.1->tensorflow) (2.15.1)\n",
      "Requirement already satisfied: mdurl~=0.1 in c:\\programdata\\anaconda3\\lib\\site-packages (from markdown-it-py<3.0.0,>=2.2.0->rich->keras>=3.0.0->tensorflow-intel==2.16.1->tensorflow) (0.1.0)\n",
      "Note: you may need to restart the kernel to use updated packages.\n"
     ]
    }
   ],
   "source": [
    "%pip  install tensorflow\n"
   ]
  },
  {
   "cell_type": "code",
   "execution_count": 27,
   "metadata": {},
   "outputs": [
    {
     "name": "stderr",
     "output_type": "stream",
     "text": [
      "C:\\Users\\khant\\AppData\\Roaming\\Python\\Python311\\site-packages\\keras\\src\\layers\\core\\dense.py:87: UserWarning: Do not pass an `input_shape`/`input_dim` argument to a layer. When using Sequential models, prefer using an `Input(shape)` object as the first layer in the model instead.\n",
      "  super().__init__(activity_regularizer=activity_regularizer, **kwargs)\n"
     ]
    }
   ],
   "source": [
    "import tensorflow as tf\n",
    "\n",
    "def build_model(input_shape):\n",
    "    model = tf.keras.Sequential([\n",
    "        tf.keras.layers.Dense(8, activation='relu', input_shape=[input_shape]),\n",
    "        tf.keras.layers.Dense(4, activation='relu'),\n",
    "        tf.keras.layers.Dense(2, activation='relu'),\n",
    "        tf.keras.layers.Dense(1, activation='sigmoid')\n",
    "    ])\n",
    "\n",
    "    optimizer = tf.keras.optimizers.Adam(learning_rate=0.01, beta_1=0.9, beta_2=0.999, epsilon=1e-07)\n",
    "\n",
    "    model.compile(loss='binary_crossentropy', optimizer=optimizer, metrics=['accuracy'])\n",
    "    return model\n",
    "\n",
    "# Assuming X_train is a DataFrame or dictionary-like object with the features\n",
    "# You need to pass the input_shape to the build_model function\n",
    "# If X_train is a DataFrame, input_shape would be the number of columns\n",
    "input_shape = len(X_train.keys())\n",
    "\n",
    "# Build the model\n",
    "neural_model = build_model(input_shape)\n"
   ]
  },
  {
   "cell_type": "code",
   "execution_count": 28,
   "metadata": {},
   "outputs": [
    {
     "data": {
      "text/html": [
       "<pre style=\"white-space:pre;overflow-x:auto;line-height:normal;font-family:Menlo,'DejaVu Sans Mono',consolas,'Courier New',monospace\"><span style=\"font-weight: bold\">Model: \"sequential\"</span>\n",
       "</pre>\n"
      ],
      "text/plain": [
       "\u001b[1mModel: \"sequential\"\u001b[0m\n"
      ]
     },
     "metadata": {},
     "output_type": "display_data"
    },
    {
     "data": {
      "text/html": [
       "<pre style=\"white-space:pre;overflow-x:auto;line-height:normal;font-family:Menlo,'DejaVu Sans Mono',consolas,'Courier New',monospace\">┏━━━━━━━━━━━━━━━━━━━━━━━━━━━━━━━━━┳━━━━━━━━━━━━━━━━━━━━━━━━┳━━━━━━━━━━━━━━━┓\n",
       "┃<span style=\"font-weight: bold\"> Layer (type)                    </span>┃<span style=\"font-weight: bold\"> Output Shape           </span>┃<span style=\"font-weight: bold\">       Param # </span>┃\n",
       "┡━━━━━━━━━━━━━━━━━━━━━━━━━━━━━━━━━╇━━━━━━━━━━━━━━━━━━━━━━━━╇━━━━━━━━━━━━━━━┩\n",
       "│ dense (<span style=\"color: #0087ff; text-decoration-color: #0087ff\">Dense</span>)                   │ (<span style=\"color: #00d7ff; text-decoration-color: #00d7ff\">None</span>, <span style=\"color: #00af00; text-decoration-color: #00af00\">8</span>)              │            <span style=\"color: #00af00; text-decoration-color: #00af00\">72</span> │\n",
       "├─────────────────────────────────┼────────────────────────┼───────────────┤\n",
       "│ dense_1 (<span style=\"color: #0087ff; text-decoration-color: #0087ff\">Dense</span>)                 │ (<span style=\"color: #00d7ff; text-decoration-color: #00d7ff\">None</span>, <span style=\"color: #00af00; text-decoration-color: #00af00\">4</span>)              │            <span style=\"color: #00af00; text-decoration-color: #00af00\">36</span> │\n",
       "├─────────────────────────────────┼────────────────────────┼───────────────┤\n",
       "│ dense_2 (<span style=\"color: #0087ff; text-decoration-color: #0087ff\">Dense</span>)                 │ (<span style=\"color: #00d7ff; text-decoration-color: #00d7ff\">None</span>, <span style=\"color: #00af00; text-decoration-color: #00af00\">2</span>)              │            <span style=\"color: #00af00; text-decoration-color: #00af00\">10</span> │\n",
       "├─────────────────────────────────┼────────────────────────┼───────────────┤\n",
       "│ dense_3 (<span style=\"color: #0087ff; text-decoration-color: #0087ff\">Dense</span>)                 │ (<span style=\"color: #00d7ff; text-decoration-color: #00d7ff\">None</span>, <span style=\"color: #00af00; text-decoration-color: #00af00\">1</span>)              │             <span style=\"color: #00af00; text-decoration-color: #00af00\">3</span> │\n",
       "└─────────────────────────────────┴────────────────────────┴───────────────┘\n",
       "</pre>\n"
      ],
      "text/plain": [
       "┏━━━━━━━━━━━━━━━━━━━━━━━━━━━━━━━━━┳━━━━━━━━━━━━━━━━━━━━━━━━┳━━━━━━━━━━━━━━━┓\n",
       "┃\u001b[1m \u001b[0m\u001b[1mLayer (type)                   \u001b[0m\u001b[1m \u001b[0m┃\u001b[1m \u001b[0m\u001b[1mOutput Shape          \u001b[0m\u001b[1m \u001b[0m┃\u001b[1m \u001b[0m\u001b[1m      Param #\u001b[0m\u001b[1m \u001b[0m┃\n",
       "┡━━━━━━━━━━━━━━━━━━━━━━━━━━━━━━━━━╇━━━━━━━━━━━━━━━━━━━━━━━━╇━━━━━━━━━━━━━━━┩\n",
       "│ dense (\u001b[38;5;33mDense\u001b[0m)                   │ (\u001b[38;5;45mNone\u001b[0m, \u001b[38;5;34m8\u001b[0m)              │            \u001b[38;5;34m72\u001b[0m │\n",
       "├─────────────────────────────────┼────────────────────────┼───────────────┤\n",
       "│ dense_1 (\u001b[38;5;33mDense\u001b[0m)                 │ (\u001b[38;5;45mNone\u001b[0m, \u001b[38;5;34m4\u001b[0m)              │            \u001b[38;5;34m36\u001b[0m │\n",
       "├─────────────────────────────────┼────────────────────────┼───────────────┤\n",
       "│ dense_2 (\u001b[38;5;33mDense\u001b[0m)                 │ (\u001b[38;5;45mNone\u001b[0m, \u001b[38;5;34m2\u001b[0m)              │            \u001b[38;5;34m10\u001b[0m │\n",
       "├─────────────────────────────────┼────────────────────────┼───────────────┤\n",
       "│ dense_3 (\u001b[38;5;33mDense\u001b[0m)                 │ (\u001b[38;5;45mNone\u001b[0m, \u001b[38;5;34m1\u001b[0m)              │             \u001b[38;5;34m3\u001b[0m │\n",
       "└─────────────────────────────────┴────────────────────────┴───────────────┘\n"
      ]
     },
     "metadata": {},
     "output_type": "display_data"
    },
    {
     "data": {
      "text/html": [
       "<pre style=\"white-space:pre;overflow-x:auto;line-height:normal;font-family:Menlo,'DejaVu Sans Mono',consolas,'Courier New',monospace\"><span style=\"font-weight: bold\"> Total params: </span><span style=\"color: #00af00; text-decoration-color: #00af00\">121</span> (484.00 B)\n",
       "</pre>\n"
      ],
      "text/plain": [
       "\u001b[1m Total params: \u001b[0m\u001b[38;5;34m121\u001b[0m (484.00 B)\n"
      ]
     },
     "metadata": {},
     "output_type": "display_data"
    },
    {
     "data": {
      "text/html": [
       "<pre style=\"white-space:pre;overflow-x:auto;line-height:normal;font-family:Menlo,'DejaVu Sans Mono',consolas,'Courier New',monospace\"><span style=\"font-weight: bold\"> Trainable params: </span><span style=\"color: #00af00; text-decoration-color: #00af00\">121</span> (484.00 B)\n",
       "</pre>\n"
      ],
      "text/plain": [
       "\u001b[1m Trainable params: \u001b[0m\u001b[38;5;34m121\u001b[0m (484.00 B)\n"
      ]
     },
     "metadata": {},
     "output_type": "display_data"
    },
    {
     "data": {
      "text/html": [
       "<pre style=\"white-space:pre;overflow-x:auto;line-height:normal;font-family:Menlo,'DejaVu Sans Mono',consolas,'Courier New',monospace\"><span style=\"font-weight: bold\"> Non-trainable params: </span><span style=\"color: #00af00; text-decoration-color: #00af00\">0</span> (0.00 B)\n",
       "</pre>\n"
      ],
      "text/plain": [
       "\u001b[1m Non-trainable params: \u001b[0m\u001b[38;5;34m0\u001b[0m (0.00 B)\n"
      ]
     },
     "metadata": {},
     "output_type": "display_data"
    }
   ],
   "source": [
    "neural_model.summary()"
   ]
  },
  {
   "cell_type": "code",
   "execution_count": 29,
   "metadata": {},
   "outputs": [
    {
     "name": "stdout",
     "output_type": "stream",
     "text": [
      "Epoch 1/100\n",
      "18/18 - 7s - 394ms/step - accuracy: 0.6377 - loss: 0.5854 - val_accuracy: 0.7419 - val_loss: 0.4278\n",
      "Epoch 2/100\n",
      "18/18 - 0s - 13ms/step - accuracy: 0.7391 - loss: 0.5095 - val_accuracy: 0.8226 - val_loss: 0.3849\n",
      "Epoch 3/100\n",
      "18/18 - 0s - 13ms/step - accuracy: 0.7808 - loss: 0.4734 - val_accuracy: 0.8387 - val_loss: 0.3660\n",
      "Epoch 4/100\n",
      "18/18 - 0s - 15ms/step - accuracy: 0.7880 - loss: 0.4534 - val_accuracy: 0.8226 - val_loss: 0.3502\n",
      "Epoch 5/100\n",
      "18/18 - 0s - 13ms/step - accuracy: 0.8116 - loss: 0.4350 - val_accuracy: 0.8387 - val_loss: 0.3470\n",
      "Epoch 6/100\n",
      "18/18 - 0s - 12ms/step - accuracy: 0.8188 - loss: 0.4129 - val_accuracy: 0.8548 - val_loss: 0.3053\n",
      "Epoch 7/100\n",
      "18/18 - 0s - 12ms/step - accuracy: 0.8442 - loss: 0.3958 - val_accuracy: 0.8871 - val_loss: 0.2979\n",
      "Epoch 8/100\n",
      "18/18 - 0s - 12ms/step - accuracy: 0.8460 - loss: 0.3832 - val_accuracy: 0.8548 - val_loss: 0.2976\n",
      "Epoch 9/100\n",
      "18/18 - 0s - 13ms/step - accuracy: 0.8514 - loss: 0.3781 - val_accuracy: 0.8710 - val_loss: 0.2968\n",
      "Epoch 10/100\n",
      "18/18 - 0s - 15ms/step - accuracy: 0.8659 - loss: 0.3679 - val_accuracy: 0.8548 - val_loss: 0.3016\n",
      "Epoch 11/100\n",
      "18/18 - 0s - 11ms/step - accuracy: 0.8569 - loss: 0.3653 - val_accuracy: 0.8710 - val_loss: 0.2959\n",
      "Epoch 12/100\n",
      "18/18 - 0s - 15ms/step - accuracy: 0.8587 - loss: 0.3607 - val_accuracy: 0.8548 - val_loss: 0.2975\n",
      "Epoch 13/100\n",
      "18/18 - 0s - 14ms/step - accuracy: 0.8551 - loss: 0.3586 - val_accuracy: 0.8871 - val_loss: 0.2855\n",
      "Epoch 14/100\n",
      "18/18 - 0s - 13ms/step - accuracy: 0.8587 - loss: 0.3552 - val_accuracy: 0.8710 - val_loss: 0.2823\n",
      "Epoch 15/100\n",
      "18/18 - 0s - 14ms/step - accuracy: 0.8551 - loss: 0.3479 - val_accuracy: 0.8710 - val_loss: 0.2891\n",
      "Epoch 16/100\n",
      "18/18 - 0s - 14ms/step - accuracy: 0.8678 - loss: 0.3393 - val_accuracy: 0.8387 - val_loss: 0.2992\n",
      "Epoch 17/100\n",
      "18/18 - 0s - 12ms/step - accuracy: 0.8768 - loss: 0.3368 - val_accuracy: 0.8710 - val_loss: 0.2763\n",
      "Epoch 18/100\n",
      "18/18 - 0s - 12ms/step - accuracy: 0.8714 - loss: 0.3327 - val_accuracy: 0.8710 - val_loss: 0.2912\n",
      "Epoch 19/100\n",
      "18/18 - 0s - 14ms/step - accuracy: 0.8732 - loss: 0.3281 - val_accuracy: 0.8710 - val_loss: 0.2743\n",
      "Epoch 20/100\n",
      "18/18 - 0s - 12ms/step - accuracy: 0.8714 - loss: 0.3376 - val_accuracy: 0.8871 - val_loss: 0.2846\n",
      "Epoch 21/100\n",
      "18/18 - 0s - 13ms/step - accuracy: 0.8641 - loss: 0.3331 - val_accuracy: 0.8710 - val_loss: 0.2838\n",
      "Epoch 22/100\n",
      "18/18 - 0s - 15ms/step - accuracy: 0.8750 - loss: 0.3213 - val_accuracy: 0.8710 - val_loss: 0.2747\n",
      "Epoch 23/100\n",
      "18/18 - 0s - 12ms/step - accuracy: 0.8696 - loss: 0.3208 - val_accuracy: 0.8710 - val_loss: 0.2772\n",
      "Epoch 24/100\n",
      "18/18 - 0s - 11ms/step - accuracy: 0.8750 - loss: 0.3208 - val_accuracy: 0.8548 - val_loss: 0.2890\n",
      "Epoch 25/100\n",
      "18/18 - 0s - 10ms/step - accuracy: 0.8750 - loss: 0.3212 - val_accuracy: 0.8548 - val_loss: 0.2926\n",
      "Epoch 26/100\n",
      "18/18 - 0s - 12ms/step - accuracy: 0.8714 - loss: 0.3218 - val_accuracy: 0.8548 - val_loss: 0.2967\n",
      "Epoch 27/100\n",
      "18/18 - 0s - 12ms/step - accuracy: 0.8768 - loss: 0.3252 - val_accuracy: 0.8548 - val_loss: 0.3041\n",
      "Epoch 28/100\n",
      "18/18 - 0s - 12ms/step - accuracy: 0.8768 - loss: 0.3266 - val_accuracy: 0.8710 - val_loss: 0.2900\n",
      "Epoch 29/100\n",
      "18/18 - 0s - 11ms/step - accuracy: 0.8804 - loss: 0.3234 - val_accuracy: 0.8548 - val_loss: 0.2906\n",
      "Epoch 30/100\n",
      "18/18 - 0s - 12ms/step - accuracy: 0.8804 - loss: 0.3133 - val_accuracy: 0.8548 - val_loss: 0.3154\n",
      "Epoch 31/100\n",
      "18/18 - 0s - 12ms/step - accuracy: 0.8750 - loss: 0.3210 - val_accuracy: 0.8548 - val_loss: 0.2982\n",
      "Epoch 32/100\n",
      "18/18 - 0s - 12ms/step - accuracy: 0.8786 - loss: 0.3176 - val_accuracy: 0.8548 - val_loss: 0.2888\n",
      "Epoch 33/100\n",
      "18/18 - 0s - 12ms/step - accuracy: 0.8786 - loss: 0.3147 - val_accuracy: 0.8548 - val_loss: 0.3209\n",
      "Epoch 34/100\n",
      "18/18 - 0s - 12ms/step - accuracy: 0.8786 - loss: 0.3096 - val_accuracy: 0.8710 - val_loss: 0.2909\n",
      "Epoch 35/100\n",
      "18/18 - 0s - 13ms/step - accuracy: 0.8768 - loss: 0.3142 - val_accuracy: 0.8548 - val_loss: 0.3034\n",
      "Epoch 36/100\n",
      "18/18 - 0s - 13ms/step - accuracy: 0.8804 - loss: 0.3150 - val_accuracy: 0.8548 - val_loss: 0.3061\n",
      "Epoch 37/100\n",
      "18/18 - 0s - 12ms/step - accuracy: 0.8786 - loss: 0.3151 - val_accuracy: 0.8871 - val_loss: 0.3046\n",
      "Epoch 38/100\n",
      "18/18 - 0s - 12ms/step - accuracy: 0.8714 - loss: 0.3164 - val_accuracy: 0.8548 - val_loss: 0.3119\n",
      "Epoch 39/100\n",
      "18/18 - 0s - 13ms/step - accuracy: 0.8732 - loss: 0.3144 - val_accuracy: 0.8548 - val_loss: 0.3245\n",
      "Epoch 40/100\n",
      "18/18 - 0s - 11ms/step - accuracy: 0.8714 - loss: 0.3129 - val_accuracy: 0.8548 - val_loss: 0.3021\n",
      "Epoch 41/100\n",
      "18/18 - 0s - 12ms/step - accuracy: 0.8804 - loss: 0.3134 - val_accuracy: 0.8710 - val_loss: 0.2948\n",
      "Epoch 42/100\n",
      "18/18 - 0s - 12ms/step - accuracy: 0.8859 - loss: 0.3093 - val_accuracy: 0.8548 - val_loss: 0.3129\n",
      "Epoch 43/100\n",
      "18/18 - 0s - 13ms/step - accuracy: 0.8822 - loss: 0.3061 - val_accuracy: 0.8548 - val_loss: 0.3027\n",
      "Epoch 44/100\n",
      "18/18 - 0s - 14ms/step - accuracy: 0.8822 - loss: 0.3116 - val_accuracy: 0.8548 - val_loss: 0.3098\n",
      "Epoch 45/100\n",
      "18/18 - 0s - 11ms/step - accuracy: 0.8786 - loss: 0.3103 - val_accuracy: 0.8548 - val_loss: 0.3224\n",
      "Epoch 46/100\n",
      "18/18 - 0s - 12ms/step - accuracy: 0.8804 - loss: 0.3066 - val_accuracy: 0.8548 - val_loss: 0.3170\n",
      "Epoch 47/100\n",
      "18/18 - 0s - 12ms/step - accuracy: 0.8913 - loss: 0.3071 - val_accuracy: 0.8548 - val_loss: 0.2929\n",
      "Epoch 48/100\n",
      "18/18 - 0s - 12ms/step - accuracy: 0.8804 - loss: 0.3117 - val_accuracy: 0.8548 - val_loss: 0.3164\n",
      "Epoch 49/100\n",
      "18/18 - 0s - 12ms/step - accuracy: 0.8768 - loss: 0.3072 - val_accuracy: 0.8548 - val_loss: 0.3117\n",
      "Epoch 50/100\n",
      "18/18 - 0s - 12ms/step - accuracy: 0.8804 - loss: 0.3048 - val_accuracy: 0.8548 - val_loss: 0.3215\n",
      "Epoch 51/100\n",
      "18/18 - 0s - 12ms/step - accuracy: 0.8822 - loss: 0.3021 - val_accuracy: 0.8548 - val_loss: 0.3124\n",
      "Epoch 52/100\n",
      "18/18 - 0s - 11ms/step - accuracy: 0.8841 - loss: 0.3161 - val_accuracy: 0.8548 - val_loss: 0.3108\n",
      "Epoch 53/100\n",
      "18/18 - 0s - 12ms/step - accuracy: 0.8841 - loss: 0.3050 - val_accuracy: 0.8548 - val_loss: 0.3055\n",
      "Epoch 54/100\n",
      "18/18 - 0s - 12ms/step - accuracy: 0.8877 - loss: 0.3051 - val_accuracy: 0.8710 - val_loss: 0.3308\n",
      "Epoch 55/100\n",
      "18/18 - 0s - 11ms/step - accuracy: 0.8841 - loss: 0.3040 - val_accuracy: 0.8548 - val_loss: 0.3411\n",
      "Epoch 56/100\n",
      "18/18 - 0s - 12ms/step - accuracy: 0.8859 - loss: 0.3118 - val_accuracy: 0.8548 - val_loss: 0.3292\n",
      "Epoch 57/100\n",
      "18/18 - 0s - 12ms/step - accuracy: 0.8841 - loss: 0.3054 - val_accuracy: 0.8548 - val_loss: 0.3225\n",
      "Epoch 58/100\n",
      "18/18 - 0s - 12ms/step - accuracy: 0.8786 - loss: 0.3024 - val_accuracy: 0.8710 - val_loss: 0.3096\n",
      "Epoch 59/100\n",
      "18/18 - 0s - 11ms/step - accuracy: 0.8895 - loss: 0.2993 - val_accuracy: 0.8548 - val_loss: 0.3307\n",
      "Epoch 60/100\n",
      "18/18 - 0s - 12ms/step - accuracy: 0.8877 - loss: 0.3022 - val_accuracy: 0.8548 - val_loss: 0.3213\n",
      "Epoch 61/100\n",
      "18/18 - 0s - 12ms/step - accuracy: 0.8895 - loss: 0.2924 - val_accuracy: 0.8548 - val_loss: 0.3189\n",
      "Epoch 62/100\n",
      "18/18 - 0s - 12ms/step - accuracy: 0.8913 - loss: 0.2953 - val_accuracy: 0.8387 - val_loss: 0.3280\n",
      "Epoch 63/100\n",
      "18/18 - 0s - 12ms/step - accuracy: 0.8804 - loss: 0.3110 - val_accuracy: 0.8710 - val_loss: 0.3301\n",
      "Epoch 64/100\n",
      "18/18 - 0s - 12ms/step - accuracy: 0.8750 - loss: 0.3354 - val_accuracy: 0.8387 - val_loss: 0.3279\n",
      "Epoch 65/100\n",
      "18/18 - 0s - 12ms/step - accuracy: 0.8786 - loss: 0.3023 - val_accuracy: 0.8548 - val_loss: 0.3113\n",
      "Epoch 66/100\n",
      "18/18 - 0s - 12ms/step - accuracy: 0.8949 - loss: 0.2948 - val_accuracy: 0.8548 - val_loss: 0.3260\n",
      "Epoch 67/100\n",
      "18/18 - 0s - 13ms/step - accuracy: 0.8913 - loss: 0.2933 - val_accuracy: 0.8710 - val_loss: 0.3092\n",
      "Epoch 68/100\n",
      "18/18 - 0s - 13ms/step - accuracy: 0.8949 - loss: 0.2930 - val_accuracy: 0.8548 - val_loss: 0.3489\n",
      "Epoch 69/100\n",
      "18/18 - 0s - 11ms/step - accuracy: 0.8822 - loss: 0.2982 - val_accuracy: 0.8548 - val_loss: 0.3119\n",
      "Epoch 70/100\n",
      "18/18 - 0s - 12ms/step - accuracy: 0.8841 - loss: 0.3005 - val_accuracy: 0.8710 - val_loss: 0.3183\n",
      "Epoch 71/100\n",
      "18/18 - 0s - 12ms/step - accuracy: 0.8931 - loss: 0.2975 - val_accuracy: 0.8548 - val_loss: 0.3455\n",
      "Epoch 72/100\n",
      "18/18 - 0s - 12ms/step - accuracy: 0.8877 - loss: 0.2914 - val_accuracy: 0.8387 - val_loss: 0.3388\n",
      "Epoch 73/100\n",
      "18/18 - 0s - 12ms/step - accuracy: 0.8949 - loss: 0.2908 - val_accuracy: 0.8710 - val_loss: 0.3157\n",
      "Epoch 74/100\n",
      "18/18 - 0s - 12ms/step - accuracy: 0.8913 - loss: 0.2921 - val_accuracy: 0.8548 - val_loss: 0.3293\n",
      "Epoch 75/100\n",
      "18/18 - 0s - 12ms/step - accuracy: 0.8931 - loss: 0.2911 - val_accuracy: 0.8548 - val_loss: 0.3203\n",
      "Epoch 76/100\n",
      "18/18 - 0s - 12ms/step - accuracy: 0.8949 - loss: 0.2922 - val_accuracy: 0.8387 - val_loss: 0.3602\n",
      "Epoch 77/100\n",
      "18/18 - 0s - 12ms/step - accuracy: 0.8986 - loss: 0.2907 - val_accuracy: 0.8548 - val_loss: 0.3374\n",
      "Epoch 78/100\n",
      "18/18 - 0s - 12ms/step - accuracy: 0.8895 - loss: 0.2902 - val_accuracy: 0.8387 - val_loss: 0.3422\n",
      "Epoch 79/100\n",
      "18/18 - 0s - 12ms/step - accuracy: 0.8967 - loss: 0.2895 - val_accuracy: 0.8548 - val_loss: 0.3379\n",
      "Epoch 80/100\n",
      "18/18 - 0s - 11ms/step - accuracy: 0.8949 - loss: 0.2901 - val_accuracy: 0.8387 - val_loss: 0.3496\n",
      "Epoch 81/100\n",
      "18/18 - 0s - 12ms/step - accuracy: 0.8895 - loss: 0.2946 - val_accuracy: 0.8387 - val_loss: 0.3619\n",
      "Epoch 82/100\n",
      "18/18 - 0s - 11ms/step - accuracy: 0.8841 - loss: 0.3047 - val_accuracy: 0.8387 - val_loss: 0.3236\n",
      "Epoch 83/100\n",
      "18/18 - 0s - 11ms/step - accuracy: 0.8859 - loss: 0.3008 - val_accuracy: 0.8710 - val_loss: 0.3390\n",
      "Epoch 84/100\n",
      "18/18 - 0s - 13ms/step - accuracy: 0.8895 - loss: 0.2937 - val_accuracy: 0.8548 - val_loss: 0.3269\n",
      "Epoch 85/100\n",
      "18/18 - 0s - 11ms/step - accuracy: 0.8967 - loss: 0.2861 - val_accuracy: 0.8548 - val_loss: 0.3269\n",
      "Epoch 86/100\n",
      "18/18 - 0s - 12ms/step - accuracy: 0.9004 - loss: 0.2865 - val_accuracy: 0.8387 - val_loss: 0.3326\n",
      "Epoch 87/100\n",
      "18/18 - 0s - 12ms/step - accuracy: 0.8949 - loss: 0.2885 - val_accuracy: 0.8710 - val_loss: 0.3324\n",
      "Epoch 88/100\n",
      "18/18 - 0s - 12ms/step - accuracy: 0.9004 - loss: 0.2871 - val_accuracy: 0.8548 - val_loss: 0.3356\n",
      "Epoch 89/100\n",
      "18/18 - 0s - 12ms/step - accuracy: 0.8967 - loss: 0.2869 - val_accuracy: 0.8548 - val_loss: 0.3442\n",
      "Epoch 90/100\n",
      "18/18 - 0s - 12ms/step - accuracy: 0.8967 - loss: 0.2850 - val_accuracy: 0.8548 - val_loss: 0.3428\n",
      "Epoch 91/100\n",
      "18/18 - 0s - 12ms/step - accuracy: 0.9004 - loss: 0.2863 - val_accuracy: 0.8548 - val_loss: 0.3401\n",
      "Epoch 92/100\n",
      "18/18 - 0s - 12ms/step - accuracy: 0.8967 - loss: 0.2868 - val_accuracy: 0.8387 - val_loss: 0.3489\n",
      "Epoch 93/100\n",
      "18/18 - 0s - 11ms/step - accuracy: 0.8986 - loss: 0.2841 - val_accuracy: 0.8548 - val_loss: 0.3320\n",
      "Epoch 94/100\n",
      "18/18 - 0s - 12ms/step - accuracy: 0.9004 - loss: 0.2828 - val_accuracy: 0.8548 - val_loss: 0.3523\n",
      "Epoch 95/100\n",
      "18/18 - 0s - 12ms/step - accuracy: 0.9058 - loss: 0.2864 - val_accuracy: 0.8387 - val_loss: 0.3486\n",
      "Epoch 96/100\n",
      "18/18 - 0s - 12ms/step - accuracy: 0.8913 - loss: 0.2893 - val_accuracy: 0.8387 - val_loss: 0.3671\n",
      "Epoch 97/100\n",
      "18/18 - 0s - 12ms/step - accuracy: 0.9040 - loss: 0.2856 - val_accuracy: 0.8387 - val_loss: 0.3539\n",
      "Epoch 98/100\n",
      "18/18 - 0s - 12ms/step - accuracy: 0.8967 - loss: 0.2887 - val_accuracy: 0.8387 - val_loss: 0.3856\n",
      "Epoch 99/100\n",
      "18/18 - 0s - 12ms/step - accuracy: 0.8913 - loss: 0.2916 - val_accuracy: 0.8387 - val_loss: 0.3492\n",
      "Epoch 100/100\n",
      "18/18 - 0s - 12ms/step - accuracy: 0.8986 - loss: 0.2855 - val_accuracy: 0.8387 - val_loss: 0.3545\n"
     ]
    }
   ],
   "source": [
    "# Keeping EPOCHs high as dataset is small.\n",
    "EPOCHS = 100\n",
    "neural_pred = neural_model.fit(X_train, Y_train,epochs=EPOCHS, validation_split=0.1, verbose=2)"
   ]
  },
  {
   "cell_type": "code",
   "execution_count": 30,
   "metadata": {},
   "outputs": [
    {
     "data": {
      "text/html": [
       "<div>\n",
       "<style scoped>\n",
       "    .dataframe tbody tr th:only-of-type {\n",
       "        vertical-align: middle;\n",
       "    }\n",
       "\n",
       "    .dataframe tbody tr th {\n",
       "        vertical-align: top;\n",
       "    }\n",
       "\n",
       "    .dataframe thead th {\n",
       "        text-align: right;\n",
       "    }\n",
       "</style>\n",
       "<table border=\"1\" class=\"dataframe\">\n",
       "  <thead>\n",
       "    <tr style=\"text-align: right;\">\n",
       "      <th></th>\n",
       "      <th>accuracy</th>\n",
       "      <th>loss</th>\n",
       "      <th>val_accuracy</th>\n",
       "      <th>val_loss</th>\n",
       "      <th>epoch</th>\n",
       "    </tr>\n",
       "  </thead>\n",
       "  <tbody>\n",
       "    <tr>\n",
       "      <th>95</th>\n",
       "      <td>0.891304</td>\n",
       "      <td>0.289320</td>\n",
       "      <td>0.83871</td>\n",
       "      <td>0.367061</td>\n",
       "      <td>95</td>\n",
       "    </tr>\n",
       "    <tr>\n",
       "      <th>96</th>\n",
       "      <td>0.903986</td>\n",
       "      <td>0.285633</td>\n",
       "      <td>0.83871</td>\n",
       "      <td>0.353919</td>\n",
       "      <td>96</td>\n",
       "    </tr>\n",
       "    <tr>\n",
       "      <th>97</th>\n",
       "      <td>0.896739</td>\n",
       "      <td>0.288656</td>\n",
       "      <td>0.83871</td>\n",
       "      <td>0.385586</td>\n",
       "      <td>97</td>\n",
       "    </tr>\n",
       "    <tr>\n",
       "      <th>98</th>\n",
       "      <td>0.891304</td>\n",
       "      <td>0.291595</td>\n",
       "      <td>0.83871</td>\n",
       "      <td>0.349193</td>\n",
       "      <td>98</td>\n",
       "    </tr>\n",
       "    <tr>\n",
       "      <th>99</th>\n",
       "      <td>0.898551</td>\n",
       "      <td>0.285478</td>\n",
       "      <td>0.83871</td>\n",
       "      <td>0.354483</td>\n",
       "      <td>99</td>\n",
       "    </tr>\n",
       "  </tbody>\n",
       "</table>\n",
       "</div>"
      ],
      "text/plain": [
       "    accuracy      loss  val_accuracy  val_loss  epoch\n",
       "95  0.891304  0.289320       0.83871  0.367061     95\n",
       "96  0.903986  0.285633       0.83871  0.353919     96\n",
       "97  0.896739  0.288656       0.83871  0.385586     97\n",
       "98  0.891304  0.291595       0.83871  0.349193     98\n",
       "99  0.898551  0.285478       0.83871  0.354483     99"
      ]
     },
     "execution_count": 30,
     "metadata": {},
     "output_type": "execute_result"
    }
   ],
   "source": [
    "# Let's measure final performance\n",
    "hist = pd.DataFrame(neural_pred.history)\n",
    "hist['epoch'] = neural_pred.epoch\n",
    "hist.tail()\n",
    "# 91% accuracy on train"
   ]
  },
  {
   "cell_type": "code",
   "execution_count": 31,
   "metadata": {},
   "outputs": [
    {
     "name": "stdout",
     "output_type": "stream",
     "text": [
      "\u001b[1m5/5\u001b[0m \u001b[32m━━━━━━━━━━━━━━━━━━━━\u001b[0m\u001b[37m\u001b[0m \u001b[1m0s\u001b[0m 37ms/step\n"
     ]
    }
   ],
   "source": [
    "neural_test=neural_model.predict(X_test)"
   ]
  },
  {
   "cell_type": "code",
   "execution_count": 32,
   "metadata": {},
   "outputs": [],
   "source": [
    "neural_test_converted=[]\n",
    "for i in neural_test:\n",
    "    if i>0.5:\n",
    "        neural_test_converted.append(1)\n",
    "    else:\n",
    "        neural_test_converted.append(0)"
   ]
  },
  {
   "cell_type": "code",
   "execution_count": 33,
   "metadata": {},
   "outputs": [],
   "source": [
    "cmp_list=model_perf(neural_test_converted,Y_test)"
   ]
  },
  {
   "cell_type": "code",
   "execution_count": 34,
   "metadata": {},
   "outputs": [
    {
     "name": "stdout",
     "output_type": "stream",
     "text": [
      "Test Accuracy :83.76623376623377 %\n"
     ]
    }
   ],
   "source": [
    "print('Test Accuracy :' + str(cmp_list.count(1)/len(Y_test)*100)+' %')\n",
    "#~86% Accuracy."
   ]
  },
  {
   "cell_type": "code",
   "execution_count": 35,
   "metadata": {},
   "outputs": [],
   "source": [
    "import numpy as np\n",
    "import pandas as pd\n",
    "from sklearn.model_selection import train_test_split\n",
    "from sklearn.preprocessing import StandardScaler\n",
    "from sklearn.svm import SVC\n",
    "from sklearn.pipeline import Pipeline\n",
    "import pickle\n",
    "\n",
    "# Load the dataset\n",
    "url = \"https://raw.githubusercontent.com/jbrownlee/Datasets/master/pima-indians-diabetes.data.csv\"\n",
    "column_names = ['Pregnancies', 'Glucose', 'BloodPressure', 'SkinThickness', 'Insulin', 'BMI', 'DiabetesPedigreeFunction', 'Age', 'Outcome']\n",
    "data = pd.read_csv(url, header=None, names=column_names)\n",
    "\n",
    "# Split the data into features and target\n",
    "X = data.iloc[:, :-1]\n",
    "y = data.iloc[:, -1]\n",
    "\n",
    "# Split the data into training and testing sets\n",
    "X_train, X_test, y_train, y_test = train_test_split(X, y, test_size=0.2, random_state=42)\n",
    "\n",
    "# Create a pipeline with standard scaler and SVM\n",
    "pipeline = Pipeline([\n",
    "    ('scaler', StandardScaler()),\n",
    "    ('svm', SVC(probability=True))\n",
    "])\n",
    "\n",
    "# Train the model\n",
    "pipeline.fit(X_train, y_train)\n",
    "\n",
    "# Save the trained pipeline\n",
    "with open('svm_model.pkl', 'wb') as file:\n",
    "    pickle.dump(pipeline, file)\n"
   ]
  }
 ],
 "metadata": {
  "kernelspec": {
   "display_name": "Python 3",
   "language": "python",
   "name": "python3"
  },
  "language_info": {
   "codemirror_mode": {
    "name": "ipython",
    "version": 3
   },
   "file_extension": ".py",
   "mimetype": "text/x-python",
   "name": "python",
   "nbconvert_exporter": "python",
   "pygments_lexer": "ipython3",
   "version": "3.11.7"
  }
 },
 "nbformat": 4,
 "nbformat_minor": 4
}
